{
  "cells": [
    {
      "cell_type": "markdown",
      "metadata": {
        "id": "view-in-github",
        "colab_type": "text"
      },
      "source": [
        "<a href=\"https://colab.research.google.com/github/gitforshubham/assignement_1/blob/main/Assignment_2.ipynb\" target=\"_parent\"><img src=\"https://colab.research.google.com/assets/colab-badge.svg\" alt=\"Open In Colab\"/></a>"
      ]
    },
    {
      "cell_type": "markdown",
      "source": [
        "Q1) String slicing is a method in Python used to extract a portion (or substring) of a string by specifying a range of indices. Strings in Python are sequences of characters, and each character is assigned a numerical index. Slicing allows us to create a new string by selecting specific parts of an original string."
      ],
      "metadata": {
        "id": "PMSaa7xCS_RH"
      }
    },
    {
      "cell_type": "code",
      "source": [
        "text = \"Hello, World!\"\n",
        "print(text[0:5])\n",
        "print(text[7:12])"
      ],
      "metadata": {
        "colab": {
          "base_uri": "https://localhost:8080/"
        },
        "id": "xWSZeSlyTwOu",
        "outputId": "e6a780b4-b795-42b4-d09c-c6007476f81f"
      },
      "execution_count": null,
      "outputs": [
        {
          "output_type": "stream",
          "name": "stdout",
          "text": [
            "Hello\n",
            "World\n"
          ]
        }
      ]
    },
    {
      "cell_type": "markdown",
      "source": [
        "\n",
        "Q2) Lists in Python are one of the most commonly used data structures. They are versatile, dynamic, and powerful, offering a wide range of functionalities for managing collections of items. Below are the key features of Python lists, along with examples."
      ],
      "metadata": {
        "id": "P2k6GjydUk5g"
      }
    },
    {
      "cell_type": "markdown",
      "source": [
        "Key Features of Lists\n",
        "1. Ordered Collection\n",
        "Lists maintain the order of elements. The position of each element is defined by its index, starting at 0."
      ],
      "metadata": {
        "id": "Z1az_wTZUx8m"
      }
    },
    {
      "cell_type": "code",
      "source": [
        "fruits = [\"apple\", \"banana\", \"cherry\"]\n",
        "print(fruits[0])\n",
        "print(fruits[2])"
      ],
      "metadata": {
        "colab": {
          "base_uri": "https://localhost:8080/"
        },
        "id": "okbXcsGsU0V8",
        "outputId": "7d398e74-2285-4cee-9daf-dcb14e9f97f3"
      },
      "execution_count": null,
      "outputs": [
        {
          "output_type": "stream",
          "name": "stdout",
          "text": [
            "apple\n",
            "cherry\n"
          ]
        }
      ]
    },
    {
      "cell_type": "markdown",
      "source": [
        "2. Mutable\n",
        "Lists are mutable, meaning their elements can be modified after the list is created."
      ],
      "metadata": {
        "id": "tyIZ3E7MU9wZ"
      }
    },
    {
      "cell_type": "code",
      "source": [
        "numbers = [1, 2, 3]\n",
        "numbers[1] = 5\n",
        "print(numbers)"
      ],
      "metadata": {
        "colab": {
          "base_uri": "https://localhost:8080/"
        },
        "id": "tHHHptwpVDvu",
        "outputId": "6d35c96b-bc44-4644-e4f9-b967b80ae8fa"
      },
      "execution_count": null,
      "outputs": [
        {
          "output_type": "stream",
          "name": "stdout",
          "text": [
            "[1, 5, 3]\n"
          ]
        }
      ]
    },
    {
      "cell_type": "markdown",
      "source": [
        "Q3) 1. Accessing Elements in a List\n",
        "You can access list elements using their index (zero-based) or through slicing.\n",
        "\n",
        "Access by Index\n"
      ],
      "metadata": {
        "id": "iOA_i5KXVKpm"
      }
    },
    {
      "cell_type": "code",
      "source": [
        "fruits = [\"apple\", \"banana\", \"cherry\", \"date\"]\n",
        "print(fruits[0])\n",
        "print(fruits[2])\n"
      ],
      "metadata": {
        "colab": {
          "base_uri": "https://localhost:8080/"
        },
        "id": "tIDkB1fxVyoi",
        "outputId": "1c748d68-1ace-454a-eae8-2e476d3426e1"
      },
      "execution_count": null,
      "outputs": [
        {
          "output_type": "stream",
          "name": "stdout",
          "text": [
            "apple\n",
            "cherry\n"
          ]
        }
      ]
    },
    {
      "cell_type": "code",
      "source": [
        "\n",
        "print(fruits[-1])\n",
        "print(fruits[-2])\n"
      ],
      "metadata": {
        "colab": {
          "base_uri": "https://localhost:8080/"
        },
        "id": "D6elduIXV58O",
        "outputId": "c515923f-7924-46c6-aaa6-673d924be5db"
      },
      "execution_count": null,
      "outputs": [
        {
          "output_type": "stream",
          "name": "stdout",
          "text": [
            "date\n",
            "cherry\n"
          ]
        }
      ]
    },
    {
      "cell_type": "markdown",
      "source": [
        "\n",
        "Python lists provide flexible ways to access, modify, and delete their elements."
      ],
      "metadata": {
        "id": "kO5RSiymWKmc"
      }
    },
    {
      "cell_type": "code",
      "source": [
        "fruits[1] = \"blueberry\"\n",
        "print(fruits)"
      ],
      "metadata": {
        "colab": {
          "base_uri": "https://localhost:8080/"
        },
        "id": "s963cOH5WR9G",
        "outputId": "cd6bcd62-2d04-4c33-d775-2c2e9fe42d51"
      },
      "execution_count": null,
      "outputs": [
        {
          "output_type": "stream",
          "name": "stdout",
          "text": [
            "['apple', 'blueberry', 'cherry', 'date']\n"
          ]
        }
      ]
    },
    {
      "cell_type": "markdown",
      "source": [
        "Deleting Elements from a List\n",
        "You can remove elements using del, the remove() method, pop(), or by assigning an empty list to a slice."
      ],
      "metadata": {
        "id": "RWoxuZN6Wo4a"
      }
    },
    {
      "cell_type": "code",
      "source": [
        "fruits = [\"apple\", \"banana\", \"cherry\"]\n",
        "del fruits[1]\n",
        "print(fruits)"
      ],
      "metadata": {
        "colab": {
          "base_uri": "https://localhost:8080/"
        },
        "id": "giWR-7Y_We_F",
        "outputId": "510d6a6c-ae0e-429a-9439-de775e4981de"
      },
      "execution_count": null,
      "outputs": [
        {
          "output_type": "stream",
          "name": "stdout",
          "text": [
            "['apple', 'cherry']\n"
          ]
        }
      ]
    },
    {
      "cell_type": "code",
      "source": [
        "fruits = [\"apple\", \"banana\", \"cherry\", \"date\"]\n",
        "del fruits[1:3]\n",
        "print(fruits)"
      ],
      "metadata": {
        "colab": {
          "base_uri": "https://localhost:8080/"
        },
        "id": "9z7D1RnVWtvF",
        "outputId": "f28d50f4-9c59-4527-e044-728dc62dc8a8"
      },
      "execution_count": null,
      "outputs": [
        {
          "output_type": "stream",
          "name": "stdout",
          "text": [
            "['apple', 'date']\n"
          ]
        }
      ]
    },
    {
      "cell_type": "markdown",
      "source": [
        "\n",
        "Q4) Comparison of Tuples and Lists in Python\n",
        "Tuples and Lists are two commonly used sequence data types in Python, but they differ in functionality and usage."
      ],
      "metadata": {
        "id": "ihS1AdlJXFjT"
      }
    },
    {
      "cell_type": "markdown",
      "source": [
        "1. Mutability\n",
        "Tuples: Immutable — Once created, elements cannot be changed, added, or removed.\n",
        "Lists: Mutable — Elements can be modified, added, or removed after creation."
      ],
      "metadata": {
        "id": "WUrJ7QI_XO_y"
      }
    },
    {
      "cell_type": "code",
      "source": [
        "# Tuple (Immutable)\n",
        "t = (1, 2, 3)\n",
        " # t[1] = 5  # TypeError: 'tuple' object does not support item assignment\n",
        "\n",
        "# List (Mutable)\n",
        "l = [1, 2, 3]\n",
        "l[1] = 5\n",
        "print(l)"
      ],
      "metadata": {
        "colab": {
          "base_uri": "https://localhost:8080/"
        },
        "id": "7U_MLSTwXKev",
        "outputId": "676eda46-18f9-4dcd-a5f6-8412320921d3"
      },
      "execution_count": null,
      "outputs": [
        {
          "output_type": "stream",
          "name": "stdout",
          "text": [
            "[1, 5, 3]\n"
          ]
        }
      ]
    },
    {
      "cell_type": "markdown",
      "source": [
        "2 Performance\n",
        "Tuples: Faster than lists due to their immutability, as they require less memory and fewer operations.\n",
        "Lists: Slower because they support dynamic operations like resizing and modifying."
      ],
      "metadata": {
        "id": "qVp2lPAIXwlw"
      }
    },
    {
      "cell_type": "markdown",
      "source": [
        "3. Use Cases\n",
        "Tuples: Used when data is fixed and should not change (e.g., coordinates, configuration values, keys in dictionaries).\n",
        "Lists: Used for collections of items that are subject to change (e.g., dynamic datasets, user inputs)."
      ],
      "metadata": {
        "id": "2rD2JA0GYFg0"
      }
    },
    {
      "cell_type": "markdown",
      "source": [
        "Q5) A set in Python is a collection data type that is unordered, mutable, and contains unique elements. Sets are modeled after mathematical sets and support operations such as union, intersection, and difference."
      ],
      "metadata": {
        "id": "On9QfyYOYKEX"
      }
    },
    {
      "cell_type": "markdown",
      "source": [
        "Key Features of Sets\n",
        "1. Unordered\n",
        "Sets do not maintain the order of elements.\n",
        "Elements cannot be accessed using an index.\n"
      ],
      "metadata": {
        "id": "gzTnkM2ZYkOT"
      }
    },
    {
      "cell_type": "code",
      "source": [
        "my_set = {1, 2, 3, 4}\n",
        "print(my_set)"
      ],
      "metadata": {
        "colab": {
          "base_uri": "https://localhost:8080/"
        },
        "id": "f91DPZPBX8Yi",
        "outputId": "348c510e-3b88-42e7-db24-0af9b023f7cc"
      },
      "execution_count": null,
      "outputs": [
        {
          "output_type": "stream",
          "name": "stdout",
          "text": [
            "{1, 2, 3, 4}\n"
          ]
        }
      ]
    },
    {
      "cell_type": "markdown",
      "source": [
        "\n",
        "\n",
        "2. Unique Elements\n",
        "A set automatically removes duplicate elements.\n",
        "\n"
      ],
      "metadata": {
        "id": "Gjmoj3lzYuRj"
      }
    },
    {
      "cell_type": "code",
      "source": [
        "\n",
        "my_set = {1, 2, 2, 3, 3}\n",
        "print(my_set)"
      ],
      "metadata": {
        "colab": {
          "base_uri": "https://localhost:8080/"
        },
        "id": "dxHCRKv9Yp7z",
        "outputId": "6a5e92d7-dfa6-4335-bbc9-7d9b5f68125c"
      },
      "execution_count": null,
      "outputs": [
        {
          "output_type": "stream",
          "name": "stdout",
          "text": [
            "{1, 2, 3}\n"
          ]
        }
      ]
    },
    {
      "cell_type": "markdown",
      "source": [
        "3. Supports Mathematical Operations\n",
        "Sets support union, intersection, difference, and symmetric difference operations.\n"
      ],
      "metadata": {
        "id": "pQkEe3gsZC0n"
      }
    },
    {
      "cell_type": "code",
      "source": [
        "\n",
        "A = {1, 2, 3}\n",
        "B = {3, 4, 5}\n",
        "\n",
        "print(A | B)\n",
        "print(A & B)\n",
        "print(A - B)\n",
        "print(A ^ B)"
      ],
      "metadata": {
        "colab": {
          "base_uri": "https://localhost:8080/"
        },
        "id": "W129SY0RY5To",
        "outputId": "1a40a57c-1344-4b88-8a23-5c0f0e66d297"
      },
      "execution_count": null,
      "outputs": [
        {
          "output_type": "stream",
          "name": "stdout",
          "text": [
            "{1, 2, 3, 4, 5}\n",
            "{3}\n",
            "{1, 2}\n",
            "{1, 2, 4, 5}\n"
          ]
        }
      ]
    },
    {
      "cell_type": "markdown",
      "source": [
        "Q6)Tuples and sets serve different purposes due to their distinct properties. Below are their key use cases with explanations and examples."
      ],
      "metadata": {
        "id": "HLIxnbAeZaRE"
      }
    },
    {
      "cell_type": "markdown",
      "source": [
        "Key Use Cases\n",
        "1.1. Fixed Data Collections\n",
        "Tuples are ideal for representing fixed collections of data, such as coordinates, RGB values, or other static groupings."
      ],
      "metadata": {
        "id": "uWSDxFNdZiEY"
      }
    },
    {
      "cell_type": "code",
      "source": [
        "coordinates = (10, 20)\n",
        "print(coordinates[0])"
      ],
      "metadata": {
        "colab": {
          "base_uri": "https://localhost:8080/"
        },
        "id": "VbKKWeITZNxY",
        "outputId": "140791e6-5a49-47fc-d995-8315850704f6"
      },
      "execution_count": null,
      "outputs": [
        {
          "output_type": "stream",
          "name": "stdout",
          "text": [
            "10\n"
          ]
        }
      ]
    },
    {
      "cell_type": "markdown",
      "source": [
        "1.2. Dictionary Keys\n",
        "Tuples are hashable and can be used as keys in dictionaries, whereas lists cannot."
      ],
      "metadata": {
        "id": "1K3aDA9bZpkU"
      }
    },
    {
      "cell_type": "code",
      "source": [
        "location_map = {(10, 20): \"Point A\", (30, 40): \"Point B\"}\n",
        "print(location_map[(10, 20)])"
      ],
      "metadata": {
        "colab": {
          "base_uri": "https://localhost:8080/"
        },
        "id": "w6foCB0oZmDu",
        "outputId": "8f828ca9-92bf-40b3-f2ee-c198a09b3383"
      },
      "execution_count": null,
      "outputs": [
        {
          "output_type": "stream",
          "name": "stdout",
          "text": [
            "Point A\n"
          ]
        }
      ]
    },
    {
      "cell_type": "markdown",
      "source": [
        "Q7) A dictionary in Python is a mutable data type that stores key-value pairs. You can easily add, modify, or delete items in a dictionary, making it a flexible and powerful data structure."
      ],
      "metadata": {
        "id": "XzJ-kaRraDxD"
      }
    },
    {
      "cell_type": "markdown",
      "source": [
        "\n",
        "1. Adding Items to a Dictionary\n",
        "You can add items to a dictionary by assigning a value to a new key."
      ],
      "metadata": {
        "id": "E7IsRINgaJ2e"
      }
    },
    {
      "cell_type": "code",
      "source": [
        "my_dict = {}\n",
        "\n",
        "\n",
        "my_dict['name'] = 'Alice'\n",
        "my_dict['age'] = 25\n",
        "\n",
        "\n",
        "my_dict.update({'city': 'New York', 'profession': 'Engineer'})\n",
        "\n",
        "print(my_dict)\n"
      ],
      "metadata": {
        "colab": {
          "base_uri": "https://localhost:8080/"
        },
        "id": "kwjN3PvaZt82",
        "outputId": "93772cd4-f06f-4e69-8a39-43acfcbf60b8"
      },
      "execution_count": null,
      "outputs": [
        {
          "output_type": "stream",
          "name": "stdout",
          "text": [
            "{'name': 'Alice', 'age': 25, 'city': 'New York', 'profession': 'Engineer'}\n"
          ]
        }
      ]
    },
    {
      "cell_type": "markdown",
      "source": [
        "2. Modifying Items in a Dictionary\n",
        "You can modify the value associated with an existing key by reassigning it."
      ],
      "metadata": {
        "id": "dz3RjT3Waaz_"
      }
    },
    {
      "cell_type": "code",
      "source": [
        "my_dict = {'name': 'Alice', 'age': 25, 'city': 'New York'}\n",
        "my_dict['age'] = 26\n",
        "my_dict.update({'city': 'San Francisco', 'profession': 'Engineer'})\n",
        "\n",
        "print(my_dict)"
      ],
      "metadata": {
        "colab": {
          "base_uri": "https://localhost:8080/"
        },
        "id": "rJqljgZhaWJc",
        "outputId": "8075ecff-f7dd-4b0f-9449-884235d9845a"
      },
      "execution_count": null,
      "outputs": [
        {
          "output_type": "stream",
          "name": "stdout",
          "text": [
            "{'name': 'Alice', 'age': 26, 'city': 'San Francisco', 'profession': 'Engineer'}\n"
          ]
        }
      ]
    },
    {
      "cell_type": "markdown",
      "source": [
        "3. Deleting Items from a Dictionary\n",
        "You can remove items from a dictionary using methods such as del, pop(), and popitem()."
      ],
      "metadata": {
        "id": "XYKKDCCkarNX"
      }
    },
    {
      "cell_type": "code",
      "source": [
        "my_dict = {'name': 'Alice', 'age': 25, 'city': 'New York'}\n",
        "del my_dict['age']\n",
        "\n",
        "print(my_dict)"
      ],
      "metadata": {
        "colab": {
          "base_uri": "https://localhost:8080/"
        },
        "id": "13bUvi8Tah0m",
        "outputId": "e2c462ac-4819-41be-88cd-5a2413c30d44"
      },
      "execution_count": null,
      "outputs": [
        {
          "output_type": "stream",
          "name": "stdout",
          "text": [
            "{'name': 'Alice', 'city': 'New York'}\n"
          ]
        }
      ]
    },
    {
      "cell_type": "markdown",
      "source": [
        "Q 8)In Python, dictionary keys must be immutable (unchangeable) because they are hashable. Hashable objects have a fixed hash value for their lifetime, which allows them to be used in hash-based data structures like dictionaries. This ensures that keys maintain their identity and can be reliably used for lookups.\n",
        "\n",
        "If keys were mutable, their hash value could change during runtime, potentially leading to unpredictable behavior when accessing or modifying dictionary entries.\n",
        "\n"
      ],
      "metadata": {
        "id": "y0QEifQha1Wi"
      }
    },
    {
      "cell_type": "markdown",
      "source": [
        "\n",
        "\n",
        "Key Reasons for Immutability\n",
        "1. Consistent Lookup Behavior\n",
        "A dictionary uses a hash table for fast lookups. If the key's hash changes after insertion, the dictionary won't be able to find the corresponding value."
      ],
      "metadata": {
        "id": "xDswdTV6a9aI"
      }
    },
    {
      "cell_type": "code",
      "source": [
        "my_dict = {(1, 2): \"Point A\"}  # Tuple is immutable\n",
        "print(my_dict[(1, 2)])"
      ],
      "metadata": {
        "colab": {
          "base_uri": "https://localhost:8080/"
        },
        "id": "t3ikjxhbawX7",
        "outputId": "246e2561-a1c1-4e2b-d289-40d30b2920d5"
      },
      "execution_count": null,
      "outputs": [
        {
          "output_type": "stream",
          "name": "stdout",
          "text": [
            "Point A\n"
          ]
        }
      ]
    },
    {
      "cell_type": "markdown",
      "source": [
        "2. Preventing Inconsistencies\n",
        "Immutable keys ensure that the dictionary's internal data structure remains consistent and avoids bugs due to unintentional changes in keys."
      ],
      "metadata": {
        "id": "09-DxGhObI-1"
      }
    },
    {
      "cell_type": "code",
      "source": [
        "mutable_key = [1, 2]\n",
        "my_dict = {tuple(mutable_key): \"Value\"}\n",
        "mutable_key.append(3)\n",
        "print(my_dict)"
      ],
      "metadata": {
        "colab": {
          "base_uri": "https://localhost:8080/"
        },
        "id": "swtWZrMtbDBC",
        "outputId": "22e0e250-4f0d-4b0a-8f25-85846b393c41"
      },
      "execution_count": null,
      "outputs": [
        {
          "output_type": "stream",
          "name": "stdout",
          "text": [
            "{(1, 2): 'Value'}\n"
          ]
        }
      ]
    },
    {
      "cell_type": "code",
      "source": [],
      "metadata": {
        "id": "HrCPY7gvbQUS"
      },
      "execution_count": null,
      "outputs": []
    }
  ],
  "metadata": {
    "colab": {
      "provenance": [],
      "include_colab_link": true
    },
    "kernelspec": {
      "display_name": "Python 3",
      "name": "python3"
    }
  },
  "nbformat": 4,
  "nbformat_minor": 0
}